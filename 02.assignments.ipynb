{
  "cells": [
    {
      "cell_type": "markdown",
      "metadata": {
        "id": "17Lw0BLdsFiB"
      },
      "source": [
        "# Assignment: Read a File into Python"
      ]
    },
    {
      "cell_type": "markdown",
      "metadata": {
        "id": "muFxgmqUsFiC"
      },
      "source": [
        "Hi there,\n",
        "\n",
        "I hear you’re the new junior data scientist on the team. Welcome!\n",
        "\n",
        "Our polling partners just finished collecting survey data on the happiness levels in each country. I’ve attached the file.\n",
        "\n",
        "Can you load the data into Python and confirm the number of rows in the data and the range of the happiness scores? Then we can walk through next steps together.\n",
        "\n",
        "Thanks!\\\n",
        "Anna\n",
        "\n",
        "*Attachment: happiness_survey_data.csv*"
      ]
    },
    {
      "cell_type": "markdown",
      "metadata": {
        "id": "SYM1jlucsFiC"
      },
      "source": [
        "### 1. Read in data from a csv file"
      ]
    },
    {
      "cell_type": "code",
      "execution_count": null,
      "metadata": {
        "id": "o1xrFmQHsFiC"
      },
      "outputs": [],
      "source": []
    },
    {
      "cell_type": "code",
      "execution_count": null,
      "metadata": {
        "id": "hM4MneEysFiC"
      },
      "outputs": [],
      "source": []
    },
    {
      "cell_type": "code",
      "execution_count": null,
      "metadata": {
        "id": "APYkTfVgsFiC"
      },
      "outputs": [],
      "source": []
    },
    {
      "cell_type": "markdown",
      "metadata": {
        "id": "Xqy6WVH7sFiC"
      },
      "source": [
        "### 2. Store data in a DataFrame"
      ]
    },
    {
      "cell_type": "code",
      "execution_count": null,
      "metadata": {
        "id": "67WrlafPsFiD"
      },
      "outputs": [],
      "source": []
    },
    {
      "cell_type": "code",
      "execution_count": null,
      "metadata": {
        "id": "lBZHAkd5sFiD"
      },
      "outputs": [],
      "source": []
    },
    {
      "cell_type": "code",
      "execution_count": null,
      "metadata": {
        "id": "L0oaiA0PsFiD"
      },
      "outputs": [],
      "source": []
    },
    {
      "cell_type": "markdown",
      "metadata": {
        "id": "EWmaDofjsFiD"
      },
      "source": [
        "### 3. Quickly explore the data in the DataFrame"
      ]
    },
    {
      "cell_type": "code",
      "execution_count": null,
      "metadata": {
        "id": "nH7umcLjsFiD"
      },
      "outputs": [],
      "source": []
    },
    {
      "cell_type": "code",
      "execution_count": null,
      "metadata": {
        "id": "c-jXdeKksFiD"
      },
      "outputs": [],
      "source": []
    },
    {
      "cell_type": "code",
      "execution_count": null,
      "metadata": {
        "id": "9KUXxGzFsFiD"
      },
      "outputs": [],
      "source": []
    }
  ],
  "metadata": {
    "kernelspec": {
      "display_name": "Python 3",
      "language": "python",
      "name": "python3"
    },
    "language_info": {
      "codemirror_mode": {
        "name": "ipython",
        "version": 3
      },
      "file_extension": ".py",
      "mimetype": "text/x-python",
      "name": "python",
      "nbconvert_exporter": "python",
      "pygments_lexer": "ipython3",
      "version": "3.8.5"
    },
    "colab": {
      "provenance": []
    }
  },
  "nbformat": 4,
  "nbformat_minor": 0
}